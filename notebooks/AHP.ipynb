{
 "cells": [
  {
   "cell_type": "code",
   "execution_count": 1,
   "metadata": {
    "collapsed": false
   },
   "outputs": [],
   "source": [
    "from __future__ import print_function, division\n",
    "\n",
    "import numpy as np\n",
    "\n",
    "from skcriteria import ahp\n",
    "from skcriteria.common import norm"
   ]
  },
  {
   "cell_type": "markdown",
   "metadata": {},
   "source": [
    "## Data"
   ]
  },
  {
   "cell_type": "code",
   "execution_count": 2,
   "metadata": {
    "collapsed": false
   },
   "outputs": [
    {
     "name": "stdout",
     "output_type": "stream",
     "text": [
      "Criteria Vs. Criteria:\n",
      " [[ 1.          2.          8.        ]\n",
      " [ 0.5         1.          6.        ]\n",
      " [ 0.125       0.16666667  1.        ]] \n",
      "\n",
      "Alternative Vs. Alternative By Location:\n",
      " [[ 1.          0.125       0.16666667]\n",
      " [ 8.          1.          2.        ]\n",
      " [ 6.          0.5         1.        ]] \n",
      "\n",
      "Alternative Vs. Alternative By Area:\n",
      " [[ 1.          7.          5.        ]\n",
      " [ 0.14285714  1.          0.33333333]\n",
      " [ 0.2         3.          1.        ]] \n",
      "\n",
      "Alternative Vs. Alternative By Price:\n",
      " [[ 1.          7.          3.        ]\n",
      " [ 0.14285714  1.          0.33333333]\n",
      " [ 0.33333333  3.          1.        ]] \n",
      "\n"
     ]
    }
   ],
   "source": [
    "vs_criteria = ahp.t([\n",
    "    [1.],            # location\n",
    "    [1/2., 1.],      # area\n",
    "    [1/8., 1/6., 1.] # price\n",
    "])\n",
    "\n",
    "alt_vs_alt_by_crit = [\n",
    "    ahp.t([[1], [8, 1], [6, 1/2, 1]]),   # location\n",
    "    ahp.t([[1], [1/7, 1], [1/5, 3, 1]]), # area\n",
    "    ahp.t([[1], [1/7, 1], [1/3, 3, 1]]), # price\n",
    "]\n",
    "\n",
    "print(\"Criteria Vs. Criteria:\\n\", vs_criteria, \"\\n\")\n",
    "print(\"Alternative Vs. Alternative By Location:\\n\", alt_vs_alt_by_crit[0], \"\\n\")\n",
    "print(\"Alternative Vs. Alternative By Area:\\n\", alt_vs_alt_by_crit[1], \"\\n\")\n",
    "print(\"Alternative Vs. Alternative By Price:\\n\", alt_vs_alt_by_crit[2], \"\\n\")"
   ]
  },
  {
   "cell_type": "code",
   "execution_count": 22,
   "metadata": {
    "collapsed": false
   },
   "outputs": [
    {
     "name": "stdout",
     "output_type": "stream",
     "text": [
      "Rank: [2 1 3]\n",
      "Points: [ 0.32938398  0.38635231  0.28426372]\n",
      "Criteria Vs. Criteria CR: 0.0176324296565 [> 0.1 - Consistent]\n",
      "Alternative Vs. Alternative By Location CR: 0.00916920780479 [< 0.1 - Consistent]\n",
      "Alternative Vs. Alternative By Area CR: 0.0329093351825 [< 0.1 - Consistent]\n",
      "Alternative Vs. Alternative By Price CR: 0.00351519171738 [< 0.1 - Consistent]\n"
     ]
    }
   ],
   "source": [
    "result = ahp.ahp(vs_criteria, alt_vs_alt_by_crit)\n",
    "\n",
    "ranked, points, crit_ci, avabc_ci, crit_cr, avabc_cr = result\n",
    "print(\"Rank:\", ranked)\n",
    "print(\"Points:\", points)\n",
    "print(\"Criteria Vs. Criteria CR:\", crit_cr, \"[> 0.1 - Consistent]\" if crit_cr < 0.1 else \"[< 0.1 - Inconsistent]\")\n",
    "print(\"Alternative Vs. Alternative By Location CR:\", avabc_ir[0], \"[< 0.1 - Consistent]\" if avabc_cr[0] < 0.1 else \"[> 0.1 - Inconsistent]\")\n",
    "print(\"Alternative Vs. Alternative By Area CR:\", avabc_ir[1], \"[< 0.1 - Consistent]\" if avabc_cr[1] < 0.1 else \"[> 0.1 - Inconsistent]\")\n",
    "print(\"Alternative Vs. Alternative By Price CR:\", avabc_ir[2], \"[< 0.1 - Consistent]\" if avabc_cr[2] < 0.1 else \"[> 0.1 - Inconsistent]\")"
   ]
  },
  {
   "cell_type": "code",
   "execution_count": null,
   "metadata": {
    "collapsed": true
   },
   "outputs": [],
   "source": []
  }
 ],
 "metadata": {
  "kernelspec": {
   "display_name": "Python 2",
   "language": "python",
   "name": "python2"
  },
  "language_info": {
   "codemirror_mode": {
    "name": "ipython",
    "version": 2
   },
   "file_extension": ".py",
   "mimetype": "text/x-python",
   "name": "python",
   "nbconvert_exporter": "python",
   "pygments_lexer": "ipython2",
   "version": "2.7.10"
  }
 },
 "nbformat": 4,
 "nbformat_minor": 0
}
