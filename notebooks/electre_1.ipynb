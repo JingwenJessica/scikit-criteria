{
 "cells": [
  {
   "cell_type": "markdown",
   "metadata": {},
   "source": [
    "# ELECTRE I - Introduction and computational considerations\n",
    "\n",
    "### Localización empresarial en Aragón: una aplicación empı́rica de la ayuda a la decisión multicriterio tipo ELECTRE I y III. Robustez de los resultados obtenidos. - Garcı́a Cebrián, Lucı́a Isabel & Muñoz Porcar, Antonio"
   ]
  },
  {
   "cell_type": "markdown",
   "metadata": {},
   "source": [
    "- Juan B Cabral\n",
    "- Metodos Cuantitativos I - FCE - UNC\n",
    "- 22/02/2015"
   ]
  },
  {
   "cell_type": "markdown",
   "metadata": {},
   "source": [
    "## ELECTRE\n",
    "\n",
    "- **ELECTRE** is a family of multi-criteria decision analysis methods that originated in Europe in the mid-1960s. The acronym ELECTRE stands for: `ELimination Et Choix Traduisant la REalité` (ELimination and Choice Expressing REality).\n",
    "- There are two main parts to an ELECTRE application: **first**, the construction of one or several outranking relations, which aims at comparing in a comprehensive way each pair of actions; **second**, an exploitation procedure that elaborates on the recommendations obtained in the first phase. The nature of the recommendation depends on the problem being addressed: choosing, ranking or sorting.\n",
    "- Usually the Electre Methods are used to discard some alternatives to the problem.\n",
    "- Criteria in ELECTRE methods have two distinct sets of parameters: **the importance coefficients** and the **veto thresholds.**"
   ]
  },
  {
   "cell_type": "markdown",
   "metadata": {},
   "source": [
    "## The Case\n",
    "\n",
    "```\n",
    "The location decision is one of the most important strategic decisions that\n",
    "have to take the firms, with direct influence on their competitiveness. For\n",
    "this reason, many methodologies have been developed to help in the decision\n",
    "making. In this paper, we make an empirical application of a multi-criterion\n",
    "methodology of aid to the decision; specifically, ELECTRE method has been\n",
    "chosen in its versions I and III, in order to select the best place for a firm. The\n",
    "alternatives are counties in Aragon (Spain), and we use eight criteria. The\n",
    "weight has been obtained by surveys. In addition, evidence is contributed\n",
    "about the consistency of the obtained results. Though the typology of the\n",
    "problems to which both methods are destined are different, the obtained\n",
    "results can be considered consistent.\n",
    "```\n",
    "\n",
    "**Note:** Here we only develop the Electre 1 part."
   ]
  },
  {
   "cell_type": "markdown",
   "metadata": {},
   "source": [
    "## The Data"
   ]
  },
  {
   "cell_type": "code",
   "execution_count": 1,
   "metadata": {
    "collapsed": false
   },
   "outputs": [],
   "source": [
    "from __future__ import print_function\n",
    "\n",
    "import numpy as np\n",
    "from skcriteria import electre\n",
    "from skcriteria.common.util import MAX, MIN\n",
    "\n",
    "\n",
    "mtx = [\n",
    "    [6, 5, 28, 5,  5], # A0\n",
    "    [4, 2, 25, 10, 9], # A2\n",
    "    [5, 7, 35, 9,  6], # A2\n",
    "    [6, 1, 27, 6,  7], # A3\n",
    "    [6, 8, 30, 7,  9], # A4\n",
    "    [5, 6, 26, 4,  8]  # A5\n",
    "]\n",
    "\n",
    "criteria = [MAX, MAX, MIN, MAX, MAX]\n",
    "weights = [0.25, 0.25, 0.1, 0.2, 0.2]\n",
    "\n",
    "\n",
    "# here we already execute electre1\n",
    "kernel, outrank, concordance, discordance, p, q = electre.electre1(mtx, criteria, weights)"
   ]
  },
  {
   "cell_type": "markdown",
   "metadata": {
    "collapsed": false
   },
   "source": [
    "### Part 1: The construction of one or several outranking relations\n",
    "\n",
    "### Create the concordance and matrix and `p` concordance index\n",
    "\n",
    "This measure how much **a is at least good ad b**\n",
    "\n",
    "$$C(a, b) = \\frac{\\sum\\limits_{i \\in Q(a, b)} w_{i}}{\\sum\\limits_{i=1}^m w_{i}}$$\n",
    "\n",
    "where $$C(a, b) \\in [0, 1]$$ and $$Q(a, b)$$ denotes the set of criteria  for wich **a is equal or preferred to b**\n",
    "\n",
    "Finally, the **P** (concordance index) is the first value that surpass the **mean** of all the mattrix"
   ]
  },
  {
   "cell_type": "code",
   "execution_count": 2,
   "metadata": {
    "collapsed": false
   },
   "outputs": [
    {
     "name": "stdout",
     "output_type": "stream",
     "text": [
      "MTX:\n",
      " [[  nan  0.5   0.35  0.5   0.35  0.45]\n",
      " [ 0.5    nan  0.5   0.75  0.5   0.5 ]\n",
      " [ 0.65  0.5    nan  0.45  0.2   0.7 ]\n",
      " [ 0.75  0.25  0.55   nan  0.35  0.45]\n",
      " [ 0.9   0.7   0.8   0.9    nan  0.9 ]\n",
      " [ 0.55  0.5   0.55  0.55  0.1    nan]]\n",
      "Mean:\n",
      "\t 0.54\n",
      "p:\n",
      "\t 0.55\n"
     ]
    }
   ],
   "source": [
    "print(\"MTX:\\n\", concordance)\n",
    "print(\"Mean:\\n\\t\", np.nanmean(concordance))\n",
    "print(\"p:\\n\\t\", p)"
   ]
  },
  {
   "cell_type": "markdown",
   "metadata": {},
   "source": [
    "### Create the discordance and matrix\n",
    "\n",
    "This measure the degree to wich **b is strictly preferred to a**\n",
    "\n",
    "$$D(a, b) = \\frac{max_{i \\in R(a,b)} [w_{i}(g_{i}(b) - g_{i}(a))]}{max_{c, d \\in A} [w_{i}(g_{i}(c) - g_{i}(d))]}$$\n",
    "\n",
    "where $$D(a, b) \\in [0, 1]$$ and\n",
    "\n",
    "$$g_{k}(k)$$ denotes the preferred scores of the *j*th attribute for the *k*th alternative and\n",
    "\n",
    "$$R(a, b)$$ \n",
    "\n",
    "denotes the set of criteria  for wich **b is strictly or preferred to a**\n",
    "\n",
    "\n",
    "Finally, the Q (discordance index) is the first value lower the mean of all the mattrix"
   ]
  },
  {
   "cell_type": "code",
   "execution_count": 3,
   "metadata": {
    "collapsed": false
   },
   "outputs": [
    {
     "name": "stdout",
     "output_type": "stream",
     "text": [
      "MTX:\n",
      " [[        nan  1.          0.66666667  0.5         1.          0.75      ]\n",
      " [ 1.                 nan  0.71428571  1.          1.          0.57142857]\n",
      " [ 0.7         1.                 nan  0.8         0.75        0.9       ]\n",
      " [ 0.57142857  0.66666667  0.85714286         nan  1.          0.71428571]\n",
      " [ 0.2         0.5         0.33333333  0.3                nan  0.4       ]\n",
      " [ 0.5         1.          0.83333333  0.5         0.5                nan]]\n",
      "Mean:\n",
      "\t 0.707619047619\n",
      "q:\n",
      "\t 0.7\n"
     ]
    }
   ],
   "source": [
    "print(\"MTX:\\n\", discordance)\n",
    "print(\"Mean:\\n\\t\", np.nanmean(discordance))\n",
    "print(\"q:\\n\\t\", q)"
   ]
  },
  {
   "cell_type": "markdown",
   "metadata": {},
   "source": [
    "### Part 2: Exploitation\n",
    "\n",
    "```python\n",
    "if C(a, b) > q and D(a, b) < q:\n",
    "    a outranks b\n",
    "```"
   ]
  },
  {
   "cell_type": "code",
   "execution_count": 4,
   "metadata": {
    "collapsed": false
   },
   "outputs": [
    {
     "name": "stdout",
     "output_type": "stream",
     "text": [
      "Outrank:\n",
      " [[False False False False False False]\n",
      " [False False False False False False]\n",
      " [ True False False False False False]\n",
      " [ True False False False False False]\n",
      " [ True  True  True  True False  True]\n",
      " [ True False False  True False False]]\n",
      "Resume:\n",
      " [0 0 1 1 5 2]\n"
     ]
    }
   ],
   "source": [
    "print(\"Outrank:\\n\", outrank)\n",
    "print(\"Resume:\\n\", np.sum(outrank, axis=1))"
   ]
  },
  {
   "cell_type": "markdown",
   "metadata": {},
   "source": [
    "Then the kernel is the alternatives that surpass all the another"
   ]
  },
  {
   "cell_type": "code",
   "execution_count": 5,
   "metadata": {
    "collapsed": false
   },
   "outputs": [
    {
     "data": {
      "text/plain": [
       "array([4])"
      ]
     },
     "execution_count": 5,
     "metadata": {},
     "output_type": "execute_result"
    }
   ],
   "source": [
    "kernel"
   ]
  },
  {
   "cell_type": "markdown",
   "metadata": {},
   "source": [
    "## Some consideration\n",
    "\n",
    "let some a big matrix"
   ]
  },
  {
   "cell_type": "code",
   "execution_count": 9,
   "metadata": {
    "collapsed": false
   },
   "outputs": [
    {
     "name": "stdout",
     "output_type": "stream",
     "text": [
      "CPU times: user 11 s, sys: 4.29 s, total: 15.3 s\n",
      "Wall time: 15.2 s\n"
     ]
    }
   ],
   "source": [
    "%%time\n",
    "size = 10000\n",
    "rmtx = np.random.rand(size, 3)\n",
    "rcriteria = [MAX, MAX, MAX]\n",
    "rweights = [0.33, 0.33, 0.33]\n",
    "result = electre.electre1(rmtx, rcriteria, rweights)"
   ]
  },
  {
   "cell_type": "markdown",
   "metadata": {},
   "source": [
    "## Bibliography\n",
    "\n",
    "- Roy, B. (1968). Classement et choix en présence de points de vue multiples. Revue française d'automatique, d'informatique et de recherche opérationnelle. Recherche opérationnelle, 2(1), 57-75.\n",
    "- Cebrián, L. I. G., & Porcar, A. M. (2009). Localización empresarial en Aragón: Una aplicación empírica de la ayuda a la decisión multicriterio tipo ELECTRE I y III. Robustez de los resultados obtenidos. Revista de Métodos Cuantitativos para la Economía y la Empresa, (7), 31-56."
   ]
  },
  {
   "cell_type": "code",
   "execution_count": null,
   "metadata": {
    "collapsed": true
   },
   "outputs": [],
   "source": []
  }
 ],
 "metadata": {
  "kernelspec": {
   "display_name": "Python 2",
   "language": "python",
   "name": "python2"
  },
  "language_info": {
   "codemirror_mode": {
    "name": "ipython",
    "version": 2
   },
   "file_extension": ".py",
   "mimetype": "text/x-python",
   "name": "python",
   "nbconvert_exporter": "python",
   "pygments_lexer": "ipython2",
   "version": "2.7.10"
  }
 },
 "nbformat": 4,
 "nbformat_minor": 0
}
