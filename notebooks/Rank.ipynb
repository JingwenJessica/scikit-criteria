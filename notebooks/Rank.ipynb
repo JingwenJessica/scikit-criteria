{
 "metadata": {
  "name": "",
  "signature": "sha256:9de06cc16e51047b64fe34364677f989997f1651248aa2234c1aa9a8d937fd25"
 },
 "nbformat": 3,
 "nbformat_minor": 0,
 "worksheets": [
  {
   "cells": [
    {
     "cell_type": "code",
     "collapsed": false,
     "input": [
      "from skcriteria.common import rank"
     ],
     "language": "python",
     "metadata": {},
     "outputs": [],
     "prompt_number": 1
    },
    {
     "cell_type": "markdown",
     "metadata": {},
     "source": [
      "##Rank data"
     ]
    },
    {
     "cell_type": "code",
     "collapsed": false,
     "input": [
      "time_laps = [0.59, 1.2, 0.3] # the fast (the lowes value) goest first\n",
      "rank.rankdata(time_laps)"
     ],
     "language": "python",
     "metadata": {},
     "outputs": [
      {
       "metadata": {},
       "output_type": "pyout",
       "prompt_number": 3,
       "text": [
        "array([2, 3, 1])"
       ]
      }
     ],
     "prompt_number": 3
    },
    {
     "cell_type": "code",
     "collapsed": false,
     "input": [
      "scores = [140, 200, 98] # highest is better\n",
      "rank.rankdata(scores, reverse=True)"
     ],
     "language": "python",
     "metadata": {},
     "outputs": [
      {
       "metadata": {},
       "output_type": "pyout",
       "prompt_number": 4,
       "text": [
        "array([2, 1, 3])"
       ]
      }
     ],
     "prompt_number": 4
    },
    {
     "cell_type": "code",
     "collapsed": false,
     "input": [],
     "language": "python",
     "metadata": {},
     "outputs": []
    }
   ],
   "metadata": {}
  }
 ]
}