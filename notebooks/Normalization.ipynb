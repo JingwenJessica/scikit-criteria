{
 "metadata": {
  "name": "",
  "signature": "sha256:49400fda10cea17155857d677e95ce76f91c8808d86ead02a4651f4635c2bee1"
 },
 "nbformat": 3,
 "nbformat_minor": 0,
 "worksheets": [
  {
   "cells": [
    {
     "cell_type": "markdown",
     "metadata": {},
     "source": [
      "# Array Normalization And Ratios"
     ]
    },
    {
     "cell_type": "code",
     "collapsed": false,
     "input": [
      "import numpy as np\n",
      "from skcriteria.common import norm"
     ],
     "language": "python",
     "metadata": {},
     "outputs": [],
     "prompt_number": 1
    },
    {
     "cell_type": "code",
     "collapsed": false,
     "input": [
      "mtx = [[1, 2], [3, 4]]\n",
      "mtx"
     ],
     "language": "python",
     "metadata": {},
     "outputs": [
      {
       "metadata": {},
       "output_type": "pyout",
       "prompt_number": 2,
       "text": [
        "[[1, 2], [3, 4]]"
       ]
      }
     ],
     "prompt_number": 2
    },
    {
     "cell_type": "markdown",
     "metadata": {},
     "source": [
      "## Normalization by The sumatory of the array"
     ]
    },
    {
     "cell_type": "code",
     "collapsed": false,
     "input": [
      "%%latex \n",
      "\\begin{align}\n",
      "\\overline{X}_{ij} = \\frac{X_{ij}}{\\sum\\limits_{j=1}^m X_{ij}}\n",
      "\\end{align}"
     ],
     "language": "python",
     "metadata": {},
     "outputs": [
      {
       "latex": [
        "\\begin{align}\n",
        "\\overline{X}_{ij} = \\frac{X_{ij}}{\\sum\\limits_{j=1}^m X_{ij}}\n",
        "\\end{align}"
       ],
       "metadata": {},
       "output_type": "display_data",
       "text": [
        "<IPython.core.display.Latex at 0x1d35450>"
       ]
      }
     ],
     "prompt_number": 3
    },
    {
     "cell_type": "code",
     "collapsed": false,
     "input": [
      "norm.sum(mtx) # ratios with the sumatory of the array"
     ],
     "language": "python",
     "metadata": {},
     "outputs": [
      {
       "metadata": {},
       "output_type": "pyout",
       "prompt_number": 4,
       "text": [
        "array([[ 0.1       ,  0.2       ],\n",
        "       [ 0.30000001,  0.40000001]], dtype=float32)"
       ]
      }
     ],
     "prompt_number": 4
    },
    {
     "cell_type": "code",
     "collapsed": false,
     "input": [
      "norm.sum(mtx, axis=0) # ratios with the sumatory of the array by column"
     ],
     "language": "python",
     "metadata": {},
     "outputs": [
      {
       "metadata": {},
       "output_type": "pyout",
       "prompt_number": 5,
       "text": [
        "array([[ 0.25      ,  0.33333334],\n",
        "       [ 0.75      ,  0.66666669]], dtype=float32)"
       ]
      }
     ],
     "prompt_number": 5
    },
    {
     "cell_type": "code",
     "collapsed": false,
     "input": [
      "norm.sum(mtx, axis=1) # ratios with the sumatory of the array by row"
     ],
     "language": "python",
     "metadata": {},
     "outputs": [
      {
       "metadata": {},
       "output_type": "pyout",
       "prompt_number": 6,
       "text": [
        "array([[ 0.33333334,  0.66666669],\n",
        "       [ 0.42857143,  0.5714286 ]], dtype=float32)"
       ]
      }
     ],
     "prompt_number": 6
    },
    {
     "cell_type": "markdown",
     "metadata": {},
     "source": [
      "## Normalization by the Max Value of the array"
     ]
    },
    {
     "cell_type": "code",
     "collapsed": false,
     "input": [
      "%%latex \n",
      "\\begin{align}\n",
      "\\overline{X}_{ij} = \\frac{X_{ij}}{\\max_{X_{ij}}}\n",
      "\\end{align}"
     ],
     "language": "python",
     "metadata": {},
     "outputs": [
      {
       "latex": [
        "\\begin{align}\n",
        "\\overline{X}_{ij} = \\frac{X_{ij}}{\\max_{X_{ij}}}\n",
        "\\end{align}"
       ],
       "metadata": {},
       "output_type": "display_data",
       "text": [
        "<IPython.core.display.Latex at 0x17a1290>"
       ]
      }
     ],
     "prompt_number": 7
    },
    {
     "cell_type": "code",
     "collapsed": false,
     "input": [
      "norm.max(mtx) # ratios with the max value of the array"
     ],
     "language": "python",
     "metadata": {},
     "outputs": [
      {
       "metadata": {},
       "output_type": "pyout",
       "prompt_number": 8,
       "text": [
        "array([[ 0.25,  0.5 ],\n",
        "       [ 0.75,  1.  ]], dtype=float32)"
       ]
      }
     ],
     "prompt_number": 8
    },
    {
     "cell_type": "code",
     "collapsed": false,
     "input": [
      "norm.max(mtx, axis=0) # ratios with the max value of the array by column"
     ],
     "language": "python",
     "metadata": {},
     "outputs": [
      {
       "metadata": {},
       "output_type": "pyout",
       "prompt_number": 9,
       "text": [
        "array([[ 0.33333334,  0.5       ],\n",
        "       [ 1.        ,  1.        ]], dtype=float32)"
       ]
      }
     ],
     "prompt_number": 9
    },
    {
     "cell_type": "code",
     "collapsed": false,
     "input": [
      "norm.max(mtx, axis=1) # ratios with the max value of the array by row"
     ],
     "language": "python",
     "metadata": {},
     "outputs": [
      {
       "metadata": {},
       "output_type": "pyout",
       "prompt_number": 10,
       "text": [
        "array([[ 0.5 ,  1.  ],\n",
        "       [ 0.75,  1.  ]], dtype=float32)"
       ]
      }
     ],
     "prompt_number": 10
    },
    {
     "cell_type": "markdown",
     "metadata": {},
     "source": [
      "## Normalization by Vector"
     ]
    },
    {
     "cell_type": "code",
     "collapsed": false,
     "input": [
      "%%latex \n",
      "\\begin{align}\n",
      " \\overline{X}_{ij} = \\frac{X_{ij}}{\\sqrt{\\sum\\limits_{j=1}^m X_{ij}^{2}}}\n",
      "\\end{align}"
     ],
     "language": "python",
     "metadata": {},
     "outputs": [
      {
       "latex": [
        "\\begin{align}\n",
        " \\overline{X}_{ij} = \\frac{X_{ij}}{\\sqrt{\\sum\\limits_{j=1}^m X_{ij}^{2}}}\n",
        "\\end{align}"
       ],
       "metadata": {},
       "output_type": "display_data",
       "text": [
        "<IPython.core.display.Latex at 0x1d35450>"
       ]
      }
     ],
     "prompt_number": 11
    },
    {
     "cell_type": "code",
     "collapsed": false,
     "input": [
      "norm.vector(mtx) # ratios with the vector value of the array"
     ],
     "language": "python",
     "metadata": {},
     "outputs": [
      {
       "metadata": {},
       "output_type": "pyout",
       "prompt_number": 12,
       "text": [
        "array([[ 0.18257418,  0.36514837],\n",
        "       [ 0.54772252,  0.73029673]], dtype=float32)"
       ]
      }
     ],
     "prompt_number": 12
    },
    {
     "cell_type": "code",
     "collapsed": false,
     "input": [
      "norm.vector(mtx, axis=0) # ratios with the vector value of the array by column"
     ],
     "language": "python",
     "metadata": {},
     "outputs": [
      {
       "metadata": {},
       "output_type": "pyout",
       "prompt_number": 13,
       "text": [
        "array([[ 0.31622776,  0.44721359],\n",
        "       [ 0.94868326,  0.89442718]], dtype=float32)"
       ]
      }
     ],
     "prompt_number": 13
    },
    {
     "cell_type": "code",
     "collapsed": false,
     "input": [
      "norm.vector(mtx, axis=1) # ratios with the vector value of the array by row"
     ],
     "language": "python",
     "metadata": {},
     "outputs": [
      {
       "metadata": {},
       "output_type": "pyout",
       "prompt_number": 14,
       "text": [
        "array([[ 0.44721359,  0.89442718],\n",
        "       [ 0.60000002,  0.80000001]], dtype=float32)"
       ]
      }
     ],
     "prompt_number": 14
    },
    {
     "cell_type": "markdown",
     "metadata": {},
     "source": [
      "##Push Negatives"
     ]
    },
    {
     "cell_type": "code",
     "collapsed": false,
     "input": [
      "%%latex \n",
      "\\begin{align}\n",
      "\\overline{X}_{ij} =\n",
      "\\begin{cases}\n",
      "    X_{ij} + min_{X_{ij}} & \\text{if } X_{ij} < 0\\\\\n",
      "    X_{ij}          & \\text{otherwise}\n",
      "\\end{cases}\n",
      "\\end{align}"
     ],
     "language": "python",
     "metadata": {},
     "outputs": [
      {
       "latex": [
        "\\begin{align}\n",
        "\\overline{X}_{ij} =\n",
        "\\begin{cases}\n",
        "    X_{ij} + min_{X_{ij}} & \\text{if } X_{ij} < 0\\\\\n",
        "    X_{ij}          & \\text{otherwise}\n",
        "\\end{cases}\n",
        "\\end{align}"
       ],
       "metadata": {},
       "output_type": "display_data",
       "text": [
        "<IPython.core.display.Latex at 0x2406090>"
       ]
      }
     ],
     "prompt_number": 32
    },
    {
     "cell_type": "code",
     "collapsed": false,
     "input": [
      "mtx_lt0 = [[-1, 2], [3, 4]]"
     ],
     "language": "python",
     "metadata": {},
     "outputs": [],
     "prompt_number": 15
    },
    {
     "cell_type": "code",
     "collapsed": false,
     "input": [
      "norm.push_negatives(mtx) # array without negatives dont be afected"
     ],
     "language": "python",
     "metadata": {},
     "outputs": [
      {
       "metadata": {},
       "output_type": "pyout",
       "prompt_number": 16,
       "text": [
        "array([[1, 2],\n",
        "       [3, 4]])"
       ]
      }
     ],
     "prompt_number": 16
    },
    {
     "cell_type": "code",
     "collapsed": false,
     "input": [
      "norm.push_negatives(mtx_lt0) # all the array is incremented by 1 to eliminate the negative"
     ],
     "language": "python",
     "metadata": {},
     "outputs": [
      {
       "metadata": {},
       "output_type": "pyout",
       "prompt_number": 17,
       "text": [
        "array([[0, 3],\n",
        "       [4, 5]])"
       ]
      }
     ],
     "prompt_number": 17
    },
    {
     "cell_type": "code",
     "collapsed": false,
     "input": [
      "norm.push_negatives(mtx_lt0, axis=0) # by column only the first one is afected"
     ],
     "language": "python",
     "metadata": {},
     "outputs": [
      {
       "metadata": {},
       "output_type": "pyout",
       "prompt_number": 18,
       "text": [
        "array([[0, 2],\n",
        "       [4, 4]])"
       ]
      }
     ],
     "prompt_number": 18
    },
    {
     "cell_type": "code",
     "collapsed": false,
     "input": [
      "norm.push_negatives(mtx_lt0, axis=1) # by row only the first row is afected"
     ],
     "language": "python",
     "metadata": {},
     "outputs": [
      {
       "metadata": {},
       "output_type": "pyout",
       "prompt_number": 19,
       "text": [
        "array([[0, 3],\n",
        "       [3, 4]])"
       ]
      }
     ],
     "prompt_number": 19
    },
    {
     "cell_type": "markdown",
     "metadata": {},
     "source": [
      "##Epsilon"
     ]
    },
    {
     "cell_type": "code",
     "collapsed": false,
     "input": [
      "%%latex \n",
      "\\begin{align}\n",
      "\\overline{X}_{ij} = X_{ij} + \\epsilon\n",
      "\\end{align}"
     ],
     "language": "python",
     "metadata": {},
     "outputs": [
      {
       "latex": [
        "\\begin{align}\n",
        "\\overline{X}_{ij} = X_{ij} + \\epsilon\n",
        "\\end{align}"
       ],
       "metadata": {},
       "output_type": "display_data",
       "text": [
        "<IPython.core.display.Latex at 0x2406490>"
       ]
      }
     ],
     "prompt_number": 34
    },
    {
     "cell_type": "code",
     "collapsed": false,
     "input": [
      "mtx_w0 = [[0,1], [2,3]]"
     ],
     "language": "python",
     "metadata": {},
     "outputs": [],
     "prompt_number": 35
    },
    {
     "cell_type": "code",
     "collapsed": false,
     "input": [
      "norm.eps(mtx) # not afected"
     ],
     "language": "python",
     "metadata": {},
     "outputs": [
      {
       "metadata": {},
       "output_type": "pyout",
       "prompt_number": 36,
       "text": [
        "array([[1, 2],\n",
        "       [3, 4]])"
       ]
      }
     ],
     "prompt_number": 36
    },
    {
     "cell_type": "code",
     "collapsed": false,
     "input": [
      "norm.eps(mtx_w0) # added a value 0,00000000000000002, ans id only perceptible in tue 0"
     ],
     "language": "python",
     "metadata": {},
     "outputs": [
      {
       "metadata": {},
       "output_type": "pyout",
       "prompt_number": 38,
       "text": [
        "array([[  2.22044605e-16,   1.00000000e+00],\n",
        "       [  2.00000000e+00,   3.00000000e+00]])"
       ]
      }
     ],
     "prompt_number": 38
    },
    {
     "cell_type": "code",
     "collapsed": false,
     "input": [],
     "language": "python",
     "metadata": {},
     "outputs": []
    }
   ],
   "metadata": {}
  }
 ]
}