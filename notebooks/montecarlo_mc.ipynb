{
 "cells": [
  {
   "cell_type": "code",
   "execution_count": 1,
   "metadata": {
    "collapsed": true
   },
   "outputs": [],
   "source": [
    "from skcriteria import topsis"
   ]
  },
  {
   "cell_type": "code",
   "execution_count": 3,
   "metadata": {
    "collapsed": false
   },
   "outputs": [],
   "source": [
    "mtx = [\n",
    "    [9, 5, 7, 5], #A1\n",
    "    [5, 5, 7, 9], #A2\n",
    "    [9, 7, 7, 5], #A3\n",
    "    [7, 7, 9, 7], #A4\n",
    "    [5, 9, 5, 7], #A5\n",
    "    [9, 9, 5, 7], #A6\n",
    "    [9, 5, 5, 9], #A7\n",
    "    [7, 9, 9, 7], #A8\n",
    "    [9, 7, 5, 7], #A9\n",
    "    [5, 7, 9, 7], #A10\n",
    "    [5, 9, 9, 5], #A11\n",
    "    [5, 5, 9, 9], #A12\n",
    "    [7, 5, 7, 9], #A13\n",
    "    [5, 9, 7, 7], #A14\n",
    "    [9, 7, 5, 9], #A15\n",
    "    [9, 7, 7, 9], #A16\n",
    "    [7, 9, 7, 9], #A17\n",
    "    [5, 9, 7, 5], #A18\n",
    "    [9, 5, 9, 5], #A19\n",
    "    [5, 7, 7, 9], #A20\n",
    "    [5, 7, 9, 5], #A21\n",
    "    [7, 9, 9, 5], #A22\n",
    "    [9, 9, 7, 5], #A23\n",
    "    [9, 7, 5, 5], #A24\n",
    "    [7, 9, 5, 9], #A25\n",
    "    [5, 5, 9, 7], #A26\n",
    "    [7, 7, 7, 9], #A27\n",
    "    [7, 5, 9, 5], #A28\n",
    "    [9, 7, 7, 7], #A29\n",
    "    [5, 9, 7, 9], #A30\n",
    "]"
   ]
  },
  {
   "cell_type": "code",
   "execution_count": 4,
   "metadata": {
    "collapsed": false
   },
   "outputs": [
    {
     "data": {
      "text/plain": [
       "[[9, 5, 7, 5],\n",
       " [5, 5, 7, 9],\n",
       " [9, 7, 7, 5],\n",
       " [7, 7, 9, 7],\n",
       " [5, 9, 5, 7],\n",
       " [9, 9, 5, 7],\n",
       " [9, 5, 5, 9],\n",
       " [7, 9, 9, 7],\n",
       " [9, 7, 5, 7],\n",
       " [5, 7, 9, 7],\n",
       " [5, 9, 9, 5],\n",
       " [5, 5, 9, 9],\n",
       " [7, 5, 7, 9],\n",
       " [5, 9, 7, 7],\n",
       " [9, 7, 5, 9],\n",
       " [9, 7, 7, 9],\n",
       " [7, 9, 7, 9],\n",
       " [5, 9, 7, 5],\n",
       " [9, 5, 9, 5],\n",
       " [5, 7, 7, 9],\n",
       " [5, 7, 9, 5],\n",
       " [7, 9, 9, 5],\n",
       " [9, 9, 7, 5],\n",
       " [9, 7, 5, 5],\n",
       " [7, 9, 5, 9],\n",
       " [5, 5, 9, 7],\n",
       " [7, 7, 7, 9],\n",
       " [7, 5, 9, 5],\n",
       " [9, 7, 7, 7],\n",
       " [5, 9, 7, 9]]"
      ]
     },
     "execution_count": 4,
     "metadata": {},
     "output_type": "execute_result"
    }
   ],
   "source": []
  },
  {
   "cell_type": "code",
   "execution_count": null,
   "metadata": {
    "collapsed": true
   },
   "outputs": [],
   "source": []
  }
 ],
 "metadata": {
  "kernelspec": {
   "display_name": "Python 2",
   "language": "python",
   "name": "python2"
  },
  "language_info": {
   "codemirror_mode": {
    "name": "ipython",
    "version": 2
   },
   "file_extension": ".py",
   "mimetype": "text/x-python",
   "name": "python",
   "nbconvert_exporter": "python",
   "pygments_lexer": "ipython2",
   "version": "2.7.5+"
  }
 },
 "nbformat": 4,
 "nbformat_minor": 0
}
