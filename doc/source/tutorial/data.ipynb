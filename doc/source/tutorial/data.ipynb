{
 "cells": [
  {
   "cell_type": "markdown",
   "metadata": {},
   "source": [
    "# Data Manipulation tutorial"
   ]
  },
  {
   "cell_type": "code",
   "execution_count": 3,
   "metadata": {
    "collapsed": true
   },
   "outputs": [],
   "source": [
    "from skcriteria import Data, MIN, MAX"
   ]
  },
  {
   "cell_type": "code",
   "execution_count": 4,
   "metadata": {},
   "outputs": [
    {
     "data": {
      "text/html": [
       "<table>\n",
       "<thead>\n",
       "<tr><th style=\"text-align: center;\"> ALT./CRIT. </th><th style=\"text-align: center;\"> C0 (max) W.0.25 </th><th style=\"text-align: center;\"> C1 (min) W.0.25 </th><th style=\"text-align: center;\"> C2 (min) W.0.5 </th></tr>\n",
       "</thead>\n",
       "<tbody>\n",
       "<tr><td style=\"text-align: center;\">     A0     </td><td style=\"text-align: center;\">        1        </td><td style=\"text-align: center;\">        2        </td><td style=\"text-align: center;\">       3        </td></tr>\n",
       "<tr><td style=\"text-align: center;\">     A1     </td><td style=\"text-align: center;\">        4        </td><td style=\"text-align: center;\">        5        </td><td style=\"text-align: center;\">       6        </td></tr>\n",
       "</tbody>\n",
       "</table>"
      ],
      "text/plain": [
       " ALT./CRIT.    C0 (max) W.0.25    C1 (min) W.0.25    C2 (min) W.0.5\n",
       "------------  -----------------  -----------------  ----------------\n",
       "     A0               1                  2                 3\n",
       "     A1               4                  5                 6"
      ]
     },
     "execution_count": 4,
     "metadata": {},
     "output_type": "execute_result"
    }
   ],
   "source": [
    "skcriteria.Data([[1,2,3], [4, 5, 6]], [MAX, MIN, MIN], weights=[.25, .25, .50])"
   ]
  }
 ],
 "metadata": {
  "kernelspec": {
   "display_name": "Python 2",
   "language": "python",
   "name": "python2"
  },
  "language_info": {
   "codemirror_mode": {
    "name": "ipython",
    "version": 2
   },
   "file_extension": ".py",
   "mimetype": "text/x-python",
   "name": "python",
   "nbconvert_exporter": "python",
   "pygments_lexer": "ipython2",
   "version": "2.7.12"
  }
 },
 "nbformat": 4,
 "nbformat_minor": 2
}
