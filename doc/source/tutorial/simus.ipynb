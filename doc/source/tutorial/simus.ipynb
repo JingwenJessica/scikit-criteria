{
 "cells": [
  {
   "attachments": {},
   "cell_type": "markdown",
   "metadata": {},
   "source": [
    "# The SIMUS tutorial\n",
    "\n",
    "<div class=\"alert alert-warning\">\n",
    "    UNFINISHED\n",
    "</div>\n",
    "\n",
    "**SIMUS** (*Sequential Interactive Model for Urban Systems*) \n",
    "\n",
    "Is a tool to aid decision-making problems with\n",
    "multiple objectives. The method solves successive scenarios formulated as\n",
    "linear programs. For each scenario, the decision-maker must choose the\n",
    "criterion to be considered objective while the remaining restrictions\n",
    "constitute the constrains system that the projects are subject to. In each\n",
    "case, if there is a feasible solution that is optimum, it is recorded in a\n",
    "matrix of efficient results. Then, from this matrix two rankings allow the\n",
    "decision maker to compare results obtained by different procedures.\n",
    "The first ranking is obtained through a linear weighting of each column by\n",
    "a factor - equivalent of establishing a weight - and that measures the\n",
    "participation of the corresponding project. In the second ranking, the\n",
    "method uses dominance and subordinate relationships between projects,\n",
    "concepts from the French school of MCDM.\n",
    "\n",
    "\n",
    "## The Case: Land rehabilitation\n",
    "\n",
    "An important port city has been affected by the change in\n",
    "the modality of maritime transport, since the start of \n",
    "containers transport in the mid-20th century. The city was left with 39 hectares\n",
    "of empty docks, warehouses and a railway terminal.\n",
    "\n",
    "Three projects was developed to decide what to do with this places\n",
    "\n",
    "- **Project 1:** Corporate towers - Hotels - Navy Base - Small park\n",
    "- **Project 2:** Habitational towers - Comercial Center in the old Railway terminal.\n",
    "- **Project 3:** Convention center - Big park and recreational area.\n",
    "\n",
    "The criteria for the analysis of proposals are:\n",
    "\n",
    "1. New jobs positions (**jobs**).\n",
    "- Green spaces (**green**)\n",
    "- Financial feasibility (**fin**)\n",
    "- Environmental impact (**env**)\n",
    "\n",
    "\n",
    "Only for the 2nd criteria a maximun limit pf $500$ are provided.\n",
    "El Decisor considera a los cuatro criterios como objetivos, por lo que\n",
    "se deberán resolver cuatro programas lineales con tres restricciones cada\n",
    "uno.\n",
    "The data are provided in the next table:\n",
    "\n",
    "<table>\n",
    "    <thead>\n",
    "        <th>Criteria</th>\n",
    "        <th>Project 1</th>\n",
    "        <th>Project 2</th>\n",
    "        <th>Project 3</th>\n",
    "        <th>Right side value</th>\n",
    "        <th>Optimal Sense</th>\n",
    "     </thead>\n",
    "    <tbody>\n",
    "        <tr>\n",
    "            <th>jobs</th>\n",
    "            <td>250</td>\n",
    "            <td>130</td>\n",
    "            <td>350</td>\n",
    "            <td>-</td>\n",
    "            <td>Maximize</td>\n",
    "        </tr>\n",
    "        <tr>\n",
    "            <th>green</th>\n",
    "            <td>120</td>\n",
    "            <td>200</td>\n",
    "            <td>340</td>\n",
    "            <td>500</td>\n",
    "            <td>Maximize</td>\n",
    "        </tr>\n",
    "        <tr>\n",
    "            <th>fin</th>\n",
    "            <td>20</td>\n",
    "            <td>40</td>\n",
    "            <td>15</td>\n",
    "            <td>-</td>\n",
    "            <td>Maximize</td>\n",
    "        </tr>\n",
    "        <tr>\n",
    "            <th>env</th>\n",
    "            <td>800</td>\n",
    "            <td>1000</td>\n",
    "            <td>600</td>\n",
    "            <td>-</td>\n",
    "            <td>Maximize</td>\n",
    "        </tr>\n",
    "    </tbody>\n",
    "</table>\n",
    "\n",
    "\n",
    "### Data input\n",
    "\n",
    "We can create a `skcriteria.Data` object with all this information (except the limits):\n",
    "\n",
    "<div class=\"alert alert-info\">\n",
    "**Note:** SIMUS uses the alternatives as columns and the criteria as rows; but in *scikit-criteria* is the oposite, so expect to see the previous table transposed.\n",
    "</div>"
   ]
  },
  {
   "cell_type": "code",
   "execution_count": 20,
   "metadata": {},
   "outputs": [
    {
     "data": {
      "text/html": [
       "<table>\n",
       "<thead>\n",
       "<tr><th style=\"text-align: center;\"> ALT./CRIT. </th><th style=\"text-align: center;\"> jobs (max) </th><th style=\"text-align: center;\"> green (max) </th><th style=\"text-align: center;\"> fin (min) </th><th style=\"text-align: center;\"> env (max) </th></tr>\n",
       "</thead>\n",
       "<tbody>\n",
       "<tr><td style=\"text-align: center;\">   Prj 1    </td><td style=\"text-align: center;\">    250     </td><td style=\"text-align: center;\">     120     </td><td style=\"text-align: center;\">    20     </td><td style=\"text-align: center;\">    800    </td></tr>\n",
       "<tr><td style=\"text-align: center;\">   Prj 2    </td><td style=\"text-align: center;\">    130     </td><td style=\"text-align: center;\">     200     </td><td style=\"text-align: center;\">    40     </td><td style=\"text-align: center;\">   1000    </td></tr>\n",
       "<tr><td style=\"text-align: center;\">   Prj 3    </td><td style=\"text-align: center;\">    350     </td><td style=\"text-align: center;\">     340     </td><td style=\"text-align: center;\">    15     </td><td style=\"text-align: center;\">    600    </td></tr>\n",
       "</tbody>\n",
       "</table>"
      ],
      "text/plain": [
       " ALT./CRIT.    jobs (max)    green (max)    fin (min)    env (max)\n",
       "------------  ------------  -------------  -----------  -----------\n",
       "   Prj 1          250            120           20           800\n",
       "   Prj 2          130            200           40          1000\n",
       "   Prj 3          350            340           15           600"
      ]
     },
     "execution_count": 20,
     "metadata": {},
     "output_type": "execute_result"
    }
   ],
   "source": [
    "# first lets import the DATA class\n",
    "from skcriteria import Data\n",
    "\n",
    "data = Data(\n",
    "    # the alternative matrix\n",
    "    mtx=[[250, 120, 20, 800],\n",
    "         [130, 200, 40, 1000],\n",
    "         [350, 340, 15, 600]],\n",
    "    \n",
    "    # optimal sense\n",
    "    criteria=[max, max, min, max],\n",
    "    \n",
    "    # names of alternatives and criteria\n",
    "    anames=[\"Prj 1\", \"Prj 2\", \"Prj 3\"],\n",
    "    cnames=[\"jobs\", \"green\", \"fin\", \"env\"])\n",
    "\n",
    "# show the data object\n",
    "data"
   ]
  },
  {
   "cell_type": "markdown",
   "metadata": {},
   "source": [
    "### Create the model"
   ]
  },
  {
   "cell_type": "code",
   "execution_count": 22,
   "metadata": {},
   "outputs": [],
   "source": [
    "# import the class\n",
    "from skcriteria.madm.simus import SIMUS"
   ]
  },
  {
   "cell_type": "code",
   "execution_count": 24,
   "metadata": {},
   "outputs": [],
   "source": [
    "dec = SIMUS()"
   ]
  },
  {
   "cell_type": "code",
   "execution_count": 26,
   "metadata": {},
   "outputs": [
    {
     "data": {
      "text/html": [
       "<div id='dec-7fb97f6c-7508-11e8-8d16-d85de264446f'><p><b>SIMUS (mnorm=none, wnorm=none) - Solution:</b></p><table>\n",
       "<thead>\n",
       "<tr><th style=\"text-align: center;\"> ALT./CRIT. </th><th style=\"text-align: center;\"> jobs (max) </th><th style=\"text-align: center;\"> green (max) </th><th style=\"text-align: center;\"> fin (min) </th><th style=\"text-align: center;\"> env (max) </th><th style=\"text-align: center;\"> Rank </th></tr>\n",
       "</thead>\n",
       "<tbody>\n",
       "<tr><td style=\"text-align: center;\">   Prj 1    </td><td style=\"text-align: center;\">    250     </td><td style=\"text-align: center;\">     120     </td><td style=\"text-align: center;\">    20     </td><td style=\"text-align: center;\">    800    </td><td style=\"text-align: center;\">  3   </td></tr>\n",
       "<tr><td style=\"text-align: center;\">   Prj 2    </td><td style=\"text-align: center;\">    130     </td><td style=\"text-align: center;\">     200     </td><td style=\"text-align: center;\">    40     </td><td style=\"text-align: center;\">   1000    </td><td style=\"text-align: center;\">  2   </td></tr>\n",
       "<tr><td style=\"text-align: center;\">   Prj 3    </td><td style=\"text-align: center;\">    350     </td><td style=\"text-align: center;\">     340     </td><td style=\"text-align: center;\">    15     </td><td style=\"text-align: center;\">    600    </td><td style=\"text-align: center;\">  1   </td></tr>\n",
       "</tbody>\n",
       "</table></div>"
      ],
      "text/plain": [
       "SIMUS (mnorm=none, wnorm=none) - Solution:\n",
       " ALT./CRIT.    jobs (max)    green (max)    fin (min)    env (max)    Rank\n",
       "------------  ------------  -------------  -----------  -----------  ------\n",
       "   Prj 1          250            120           20           800        3\n",
       "   Prj 2          130            200           40          1000        2\n",
       "   Prj 3          350            340           15           600        1"
      ]
     },
     "execution_count": 26,
     "metadata": {},
     "output_type": "execute_result"
    }
   ],
   "source": [
    "dec.decide(data, b=[None, 500, None, None])"
   ]
  },
  {
   "cell_type": "markdown",
   "metadata": {},
   "source": [
    "## References\n",
    "\n",
    "> Munier, N., Carignano, C., & Alberto, C. UN MÉTODO DE PROGRAMACIÓN MULTIOBJETIVO. Revista de la Escuela de Perfeccionamiento en Investigación Operativa, 24(39)."
   ]
  }
 ],
 "metadata": {
  "celltoolbar": "Edit Metadata",
  "kernelspec": {
   "display_name": "Python 3",
   "language": "python",
   "name": "python3"
  },
  "language_info": {
   "codemirror_mode": {
    "name": "ipython",
    "version": 3
   },
   "file_extension": ".py",
   "mimetype": "text/x-python",
   "name": "python",
   "nbconvert_exporter": "python",
   "pygments_lexer": "ipython3",
   "version": "3.6.3"
  }
 },
 "nbformat": 4,
 "nbformat_minor": 2
}
